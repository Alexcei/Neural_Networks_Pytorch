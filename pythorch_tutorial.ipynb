{
  "nbformat": 4,
  "nbformat_minor": 0,
  "metadata": {
    "colab": {
      "name": "pythorch_tutorial.ipynb",
      "provenance": [],
      "collapsed_sections": [],
      "authorship_tag": "ABX9TyP7ibfAxwZOt1noDE+PkDLL",
      "include_colab_link": true
    },
    "kernelspec": {
      "name": "python3",
      "display_name": "Python 3"
    }
  },
  "cells": [
    {
      "cell_type": "markdown",
      "metadata": {
        "id": "view-in-github",
        "colab_type": "text"
      },
      "source": [
        "<a href=\"https://colab.research.google.com/github/Alexcei/Neural_Networks_Pytorch/blob/master/pythorch_tutorial.ipynb\" target=\"_parent\"><img src=\"https://colab.research.google.com/assets/colab-badge.svg\" alt=\"Open In Colab\"/></a>"
      ]
    },
    {
      "cell_type": "code",
      "metadata": {
        "id": "2mlnxyBmsq0o"
      },
      "source": [
        "import torch"
      ],
      "execution_count": 46,
      "outputs": []
    },
    {
      "cell_type": "markdown",
      "metadata": {
        "id": "uS3Pot7x2fbW"
      },
      "source": [
        "**Умножение матриц**"
      ]
    },
    {
      "cell_type": "markdown",
      "metadata": {
        "id": "j_YRn0pRXQUn"
      },
      "source": [
        "mm / matmul / @ - векторное произведение (состоит из всех скалярных произведений векторов строк а на вектора столбцы b)\n",
        "\n",
        "dot / * - скалярное"
      ]
    },
    {
      "cell_type": "code",
      "metadata": {
        "id": "CEzA9hdoU_Z1",
        "outputId": "d077c45b-943b-4469-a9d0-36ee775a8045",
        "colab": {
          "base_uri": "https://localhost:8080/",
          "height": 51
        }
      },
      "source": [
        "x = torch.tensor([[1,2,3],[4,5,6]])\n",
        "x"
      ],
      "execution_count": 47,
      "outputs": [
        {
          "output_type": "execute_result",
          "data": {
            "text/plain": [
              "tensor([[1, 2, 3],\n",
              "        [4, 5, 6]])"
            ]
          },
          "metadata": {
            "tags": []
          },
          "execution_count": 47
        }
      ]
    },
    {
      "cell_type": "code",
      "metadata": {
        "id": "WgOEe7dkU_De",
        "outputId": "34770f75-c516-4de5-9d06-f3aec9cb56f3",
        "colab": {
          "base_uri": "https://localhost:8080/",
          "height": 68
        }
      },
      "source": [
        "y = torch.tensor([[1,2],[3,4],[5,6]])\n",
        "y"
      ],
      "execution_count": 48,
      "outputs": [
        {
          "output_type": "execute_result",
          "data": {
            "text/plain": [
              "tensor([[1, 2],\n",
              "        [3, 4],\n",
              "        [5, 6]])"
            ]
          },
          "metadata": {
            "tags": []
          },
          "execution_count": 48
        }
      ]
    },
    {
      "cell_type": "code",
      "metadata": {
        "id": "TWifciOWVcsr",
        "outputId": "248c058b-c08a-459e-b186-f41b528c5fb6",
        "colab": {
          "base_uri": "https://localhost:8080/",
          "height": 51
        }
      },
      "source": [
        "x @ y"
      ],
      "execution_count": 50,
      "outputs": [
        {
          "output_type": "execute_result",
          "data": {
            "text/plain": [
              "tensor([[22, 28],\n",
              "        [49, 64]])"
            ]
          },
          "metadata": {
            "tags": []
          },
          "execution_count": 50
        }
      ]
    },
    {
      "cell_type": "code",
      "metadata": {
        "id": "ELUCKrdgWW67",
        "outputId": "926be273-3d9a-437e-9fcc-b389510bb7a3",
        "colab": {
          "base_uri": "https://localhost:8080/",
          "height": 34
        }
      },
      "source": [
        "x[0,:]"
      ],
      "execution_count": 51,
      "outputs": [
        {
          "output_type": "execute_result",
          "data": {
            "text/plain": [
              "tensor([1, 2, 3])"
            ]
          },
          "metadata": {
            "tags": []
          },
          "execution_count": 51
        }
      ]
    },
    {
      "cell_type": "code",
      "metadata": {
        "id": "tNJm-74sWWld",
        "outputId": "a0719232-879b-4299-8b00-a27a240e84f2",
        "colab": {
          "base_uri": "https://localhost:8080/",
          "height": 34
        }
      },
      "source": [
        "y[:,0]"
      ],
      "execution_count": 52,
      "outputs": [
        {
          "output_type": "execute_result",
          "data": {
            "text/plain": [
              "tensor([1, 3, 5])"
            ]
          },
          "metadata": {
            "tags": []
          },
          "execution_count": 52
        }
      ]
    },
    {
      "cell_type": "code",
      "metadata": {
        "id": "1FeyDCvNVkFM",
        "outputId": "53da69c0-d5f6-4d49-f58d-9e3f873ea739",
        "colab": {
          "base_uri": "https://localhost:8080/",
          "height": 51
        }
      },
      "source": [
        "print(sum(x[0,:] * y[:,0]))\n",
        "print(torch.dot(x[0,:], y[:,0]))"
      ],
      "execution_count": 54,
      "outputs": [
        {
          "output_type": "stream",
          "text": [
            "tensor(22)\n",
            "tensor(22)\n"
          ],
          "name": "stdout"
        }
      ]
    },
    {
      "cell_type": "code",
      "metadata": {
        "id": "IEmv5dy7sYoJ",
        "outputId": "34d9e330-70e3-49cf-ce33-09323d72ffaf",
        "colab": {
          "base_uri": "https://localhost:8080/",
          "height": 34
        }
      },
      "source": [
        "mat = torch.tensor([range(1,7)])\n",
        "mat"
      ],
      "execution_count": 62,
      "outputs": [
        {
          "output_type": "execute_result",
          "data": {
            "text/plain": [
              "tensor([[1, 2, 3, 4, 5, 6]])"
            ]
          },
          "metadata": {
            "tags": []
          },
          "execution_count": 62
        }
      ]
    },
    {
      "cell_type": "code",
      "metadata": {
        "id": "IvTzI_oLs_3Z",
        "outputId": "24398956-1755-4b99-8949-7204f27c8750",
        "colab": {
          "base_uri": "https://localhost:8080/",
          "height": 51
        }
      },
      "source": [
        "a = mat.reshape(2,3)\n",
        "a"
      ],
      "execution_count": 63,
      "outputs": [
        {
          "output_type": "execute_result",
          "data": {
            "text/plain": [
              "tensor([[1, 2, 3],\n",
              "        [4, 5, 6]])"
            ]
          },
          "metadata": {
            "tags": []
          },
          "execution_count": 63
        }
      ]
    },
    {
      "cell_type": "code",
      "metadata": {
        "id": "K2yURvKbRE8L",
        "outputId": "1875d43c-d97d-436a-f981-da307c99070a",
        "colab": {
          "base_uri": "https://localhost:8080/",
          "height": 68
        }
      },
      "source": [
        "b = mat.reshape(3,2)\n",
        "b"
      ],
      "execution_count": 64,
      "outputs": [
        {
          "output_type": "execute_result",
          "data": {
            "text/plain": [
              "tensor([[1, 2],\n",
              "        [3, 4],\n",
              "        [5, 6]])"
            ]
          },
          "metadata": {
            "tags": []
          },
          "execution_count": 64
        }
      ]
    },
    {
      "cell_type": "code",
      "metadata": {
        "id": "8iMaHRNUtG0I",
        "outputId": "9f8ef151-0e7e-437f-a8e8-0ee32eb8915b",
        "colab": {
          "base_uri": "https://localhost:8080/",
          "height": 51
        }
      },
      "source": [
        "torch.mm(a,b)"
      ],
      "execution_count": 65,
      "outputs": [
        {
          "output_type": "execute_result",
          "data": {
            "text/plain": [
              "tensor([[22, 28],\n",
              "        [49, 64]])"
            ]
          },
          "metadata": {
            "tags": []
          },
          "execution_count": 65
        }
      ]
    },
    {
      "cell_type": "code",
      "metadata": {
        "id": "pjEiGtbPtWLD",
        "outputId": "262831ec-7eaf-43c5-a65a-04b2603d17f3",
        "colab": {
          "base_uri": "https://localhost:8080/",
          "height": 51
        }
      },
      "source": [
        "torch.matmul(a,b)"
      ],
      "execution_count": 66,
      "outputs": [
        {
          "output_type": "execute_result",
          "data": {
            "text/plain": [
              "tensor([[22, 28],\n",
              "        [49, 64]])"
            ]
          },
          "metadata": {
            "tags": []
          },
          "execution_count": 66
        }
      ]
    },
    {
      "cell_type": "code",
      "metadata": {
        "id": "_zIRa-tQRNnx",
        "outputId": "39194769-8c02-4a86-bb41-7b3cdf7beaa1",
        "colab": {
          "base_uri": "https://localhost:8080/",
          "height": 34
        }
      },
      "source": [
        "torch.dot(torch.tensor([2, 1]), torch.tensor([2, 3]))"
      ],
      "execution_count": 67,
      "outputs": [
        {
          "output_type": "execute_result",
          "data": {
            "text/plain": [
              "tensor(7)"
            ]
          },
          "metadata": {
            "tags": []
          },
          "execution_count": 67
        }
      ]
    },
    {
      "cell_type": "code",
      "metadata": {
        "id": "D8Cbp-QEzMa_",
        "outputId": "c872aac6-a823-4dd8-bfb4-32fea55f414c",
        "colab": {
          "base_uri": "https://localhost:8080/",
          "height": 51
        }
      },
      "source": [
        "a @ b"
      ],
      "execution_count": 68,
      "outputs": [
        {
          "output_type": "execute_result",
          "data": {
            "text/plain": [
              "tensor([[22, 28],\n",
              "        [49, 64]])"
            ]
          },
          "metadata": {
            "tags": []
          },
          "execution_count": 68
        }
      ]
    },
    {
      "cell_type": "markdown",
      "metadata": {
        "id": "HVfDuXpE24CA"
      },
      "source": [
        "  Умножение матриц состоит из всех скалярных произведений векторов строк а на вектора столбцы b"
      ]
    },
    {
      "cell_type": "code",
      "metadata": {
        "id": "Zz55-uH7unu2",
        "outputId": "76d6c92f-6426-42c8-d437-ccdc9582338c",
        "colab": {
          "base_uri": "https://localhost:8080/",
          "height": 34
        }
      },
      "source": [
        "a[0,:], b[:,0]"
      ],
      "execution_count": 69,
      "outputs": [
        {
          "output_type": "execute_result",
          "data": {
            "text/plain": [
              "(tensor([1, 2, 3]), tensor([1, 3, 5]))"
            ]
          },
          "metadata": {
            "tags": []
          },
          "execution_count": 69
        }
      ]
    },
    {
      "cell_type": "code",
      "metadata": {
        "id": "ru10bD7DvT_0",
        "outputId": "743f7f0b-bc04-4bd7-bb17-193cdef00f0c",
        "colab": {
          "base_uri": "https://localhost:8080/",
          "height": 34
        }
      },
      "source": [
        "sum(a[0,:] * b[:,0])"
      ],
      "execution_count": 70,
      "outputs": [
        {
          "output_type": "execute_result",
          "data": {
            "text/plain": [
              "tensor(22)"
            ]
          },
          "metadata": {
            "tags": []
          },
          "execution_count": 70
        }
      ]
    },
    {
      "cell_type": "markdown",
      "metadata": {
        "id": "jCD9qn_V3qa5"
      },
      "source": [
        "**Создадим однослойную нейронную сеть**"
      ]
    },
    {
      "cell_type": "code",
      "metadata": {
        "id": "BxdqAK5_zY99"
      },
      "source": [
        "x = torch.randn([1, 100, 3])\n",
        "target = torch.randn([1, 100, 64])"
      ],
      "execution_count": 145,
      "outputs": []
    },
    {
      "cell_type": "code",
      "metadata": {
        "id": "trCnIFFiJcwL",
        "outputId": "82f096bf-43e1-46e8-a928-9dd538ca92a1",
        "colab": {
          "base_uri": "https://localhost:8080/",
          "height": 34
        }
      },
      "source": [
        "x.shape, target.shape"
      ],
      "execution_count": 146,
      "outputs": [
        {
          "output_type": "execute_result",
          "data": {
            "text/plain": [
              "(torch.Size([1, 100, 3]), torch.Size([1, 100, 64]))"
            ]
          },
          "metadata": {
            "tags": []
          },
          "execution_count": 146
        }
      ]
    },
    {
      "cell_type": "code",
      "metadata": {
        "id": "MXHXgRc27F--"
      },
      "source": [
        "class Net(torch.nn.Module):\n",
        "  def __init__(self):\n",
        "    super(Net, self).__init__()\n",
        "    self.fc1 = torch.nn.Linear(3, 64)\n",
        "\n",
        "  def forward(self, x):\n",
        "    x = self.fc1(x)\n",
        "    return x"
      ],
      "execution_count": 147,
      "outputs": []
    },
    {
      "cell_type": "code",
      "metadata": {
        "id": "pSFu8Ha07gM2"
      },
      "source": [
        "model = Net()"
      ],
      "execution_count": 148,
      "outputs": []
    },
    {
      "cell_type": "code",
      "metadata": {
        "id": "qU_hVCC2kj_V"
      },
      "source": [
        "par = list(model.parameters())"
      ],
      "execution_count": 149,
      "outputs": []
    },
    {
      "cell_type": "code",
      "metadata": {
        "id": "Ozu6V2adU6lI",
        "outputId": "9205bfbd-3424-4a25-98d4-982ac4cd68fe",
        "colab": {
          "base_uri": "https://localhost:8080/",
          "height": 34
        }
      },
      "source": [
        "ww = x @ par[0].T + par[1] # model(x) прямой проход\n",
        "ww.shape"
      ],
      "execution_count": 150,
      "outputs": [
        {
          "output_type": "execute_result",
          "data": {
            "text/plain": [
              "torch.Size([1, 100, 64])"
            ]
          },
          "metadata": {
            "tags": []
          },
          "execution_count": 150
        }
      ]
    },
    {
      "cell_type": "code",
      "metadata": {
        "id": "_JXfbCUrU6_e",
        "outputId": "186e840b-3e4f-4729-8c99-9c14c65097ce",
        "colab": {
          "base_uri": "https://localhost:8080/",
          "height": 34
        }
      },
      "source": [
        "par[0].shape, x.T.shape"
      ],
      "execution_count": 151,
      "outputs": [
        {
          "output_type": "execute_result",
          "data": {
            "text/plain": [
              "(torch.Size([64, 3]), torch.Size([3, 100, 1]))"
            ]
          },
          "metadata": {
            "tags": []
          },
          "execution_count": 151
        }
      ]
    },
    {
      "cell_type": "code",
      "metadata": {
        "id": "OOJZj5-z7kBv",
        "outputId": "04e5200f-e8c7-4662-ffc5-b7937263d644",
        "colab": {
          "base_uri": "https://localhost:8080/",
          "height": 153
        }
      },
      "source": [
        "model(x)"
      ],
      "execution_count": 152,
      "outputs": [
        {
          "output_type": "execute_result",
          "data": {
            "text/plain": [
              "tensor([[[-0.9430, -0.9716, -0.4352,  ...,  0.9699, -0.9679,  1.2930],\n",
              "         [-0.6834, -0.6482, -0.1890,  ...,  0.7622, -0.4183,  0.6930],\n",
              "         [-0.0828,  0.4976, -0.3568,  ...,  0.2807,  0.6303, -0.4081],\n",
              "         ...,\n",
              "         [ 0.0514, -0.1338,  0.2877,  ...,  1.9346,  0.1958,  0.4468],\n",
              "         [-0.6029, -0.5556, -0.3240,  ...,  1.1099, -0.5167,  0.9093],\n",
              "         [-0.9470, -1.3585,  0.5529,  ...,  0.4544, -0.4180,  0.5125]]],\n",
              "       grad_fn=<AddBackward0>)"
            ]
          },
          "metadata": {
            "tags": []
          },
          "execution_count": 152
        }
      ]
    },
    {
      "cell_type": "code",
      "metadata": {
        "id": "QDlsMQdk7or7",
        "outputId": "497b26d0-0124-4a9e-ce48-dd4a130d04c2",
        "colab": {
          "base_uri": "https://localhost:8080/",
          "height": 34
        }
      },
      "source": [
        "criterion = torch.nn.MSELoss()\n",
        "output = model(x)\n",
        "loss = criterion(output, target)\n",
        "loss"
      ],
      "execution_count": 153,
      "outputs": [
        {
          "output_type": "execute_result",
          "data": {
            "text/plain": [
              "tensor(1.4949, grad_fn=<MseLossBackward>)"
            ]
          },
          "metadata": {
            "tags": []
          },
          "execution_count": 153
        }
      ]
    },
    {
      "cell_type": "code",
      "metadata": {
        "id": "BpK4UAwIkYOx",
        "outputId": "93906f95-c19e-43d2-f789-69ce44042d77",
        "colab": {
          "base_uri": "https://localhost:8080/",
          "height": 34
        }
      },
      "source": [
        "torch.sum((output - target)**2)/6400"
      ],
      "execution_count": 156,
      "outputs": [
        {
          "output_type": "execute_result",
          "data": {
            "text/plain": [
              "tensor(1.4949, grad_fn=<DivBackward0>)"
            ]
          },
          "metadata": {
            "tags": []
          },
          "execution_count": 156
        }
      ]
    },
    {
      "cell_type": "code",
      "metadata": {
        "id": "_sfQ2f_x7wXZ"
      },
      "source": [
        "optimizer = torch.optim.SGD(model.parameters(),  lr=0.03)"
      ],
      "execution_count": null,
      "outputs": []
    },
    {
      "cell_type": "code",
      "metadata": {
        "id": "qeoCEA9775lt",
        "outputId": "dad64b03-784b-49fc-e062-d613c4d4bc5f",
        "colab": {
          "base_uri": "https://localhost:8080/",
          "height": 187
        }
      },
      "source": [
        "for epoch in range(10):\n",
        "  output = model(x)\n",
        "  loss = criterion(output, target)\n",
        "  print('Epoch: ', epoch, 'Loss: ', loss.item())\n",
        "  optimizer.zero_grad()\n",
        "  loss.backward()\n",
        "  optimizer.step()"
      ],
      "execution_count": null,
      "outputs": [
        {
          "output_type": "stream",
          "text": [
            "Epoch:  0 Loss:  1.5152755975723267\n",
            "Epoch:  1 Loss:  1.514113426208496\n",
            "Epoch:  2 Loss:  1.5129541158676147\n",
            "Epoch:  3 Loss:  1.5117974281311035\n",
            "Epoch:  4 Loss:  1.5106433629989624\n",
            "Epoch:  5 Loss:  1.5094915628433228\n",
            "Epoch:  6 Loss:  1.5083427429199219\n",
            "Epoch:  7 Loss:  1.5071961879730225\n",
            "Epoch:  8 Loss:  1.5060522556304932\n",
            "Epoch:  9 Loss:  1.504910945892334\n"
          ],
          "name": "stdout"
        }
      ]
    },
    {
      "cell_type": "code",
      "metadata": {
        "id": "3wvwQR7w8kmG"
      },
      "source": [
        "list(model.parameters()) # это список двух параметров w, bias"
      ],
      "execution_count": null,
      "outputs": []
    },
    {
      "cell_type": "code",
      "metadata": {
        "id": "ti-Do8v-Lboo",
        "outputId": "c0b4bc35-8377-4246-bfd0-ff93979e8771",
        "colab": {
          "base_uri": "https://localhost:8080/",
          "height": 153
        }
      },
      "source": [
        "model(x) # это forward мы получили предсказания, они плохие т.к. сеть еще не сошлась"
      ],
      "execution_count": null,
      "outputs": [
        {
          "output_type": "execute_result",
          "data": {
            "text/plain": [
              "tensor([[[-0.4475,  0.2821,  0.3167,  ..., -0.0312,  0.2750, -0.5030],\n",
              "         [ 0.3059,  1.3729,  0.8983,  ...,  0.8884, -0.1003,  0.4988],\n",
              "         [ 0.7310,  1.2137,  1.3243,  ...,  0.0080,  2.3862, -2.4441],\n",
              "         ...,\n",
              "         [-0.0333,  0.9335,  0.6572,  ...,  0.4565,  0.2081, -0.0494],\n",
              "         [-0.1330,  0.6950,  0.6753,  ..., -0.1748,  1.5607, -1.6192],\n",
              "         [-0.5618,  0.8730,  0.5063,  ..., -0.3278,  2.0722, -1.7654]]],\n",
              "       grad_fn=<AddBackward0>)"
            ]
          },
          "metadata": {
            "tags": []
          },
          "execution_count": 467
        }
      ]
    },
    {
      "cell_type": "code",
      "metadata": {
        "id": "S42hbCTE96vu"
      },
      "source": [
        "# pip install torchviz\n",
        "import torchviz"
      ],
      "execution_count": null,
      "outputs": []
    },
    {
      "cell_type": "code",
      "metadata": {
        "id": "5YPLR96k9605",
        "outputId": "e3f5d707-5946-433c-f817-97fa6f76b333",
        "colab": {
          "base_uri": "https://localhost:8080/",
          "height": 474
        }
      },
      "source": [
        "torchviz.make_dot(loss, dict(model.named_parameters()))"
      ],
      "execution_count": null,
      "outputs": [
        {
          "output_type": "execute_result",
          "data": {
            "text/plain": [
              "<graphviz.dot.Digraph at 0x7fcefedbf470>"
            ],
            "image/svg+xml": "<?xml version=\"1.0\" encoding=\"UTF-8\" standalone=\"no\"?>\n<!DOCTYPE svg PUBLIC \"-//W3C//DTD SVG 1.1//EN\"\n \"http://www.w3.org/Graphics/SVG/1.1/DTD/svg11.dtd\">\n<!-- Generated by graphviz version 2.40.1 (20161225.0304)\n -->\n<!-- Title: %3 Pages: 1 -->\n<svg width=\"206pt\" height=\"340pt\"\n viewBox=\"0.00 0.00 205.50 340.00\" xmlns=\"http://www.w3.org/2000/svg\" xmlns:xlink=\"http://www.w3.org/1999/xlink\">\n<g id=\"graph0\" class=\"graph\" transform=\"scale(1 1) rotate(0) translate(4 336)\">\n<title>%3</title>\n<polygon fill=\"#ffffff\" stroke=\"transparent\" points=\"-4,4 -4,-336 201.5,-336 201.5,4 -4,4\"/>\n<!-- 140527015818072 -->\n<g id=\"node1\" class=\"node\">\n<title>140527015818072</title>\n<polygon fill=\"#caff70\" stroke=\"#000000\" points=\"170.5,-21 62.5,-21 62.5,0 170.5,0 170.5,-21\"/>\n<text text-anchor=\"middle\" x=\"116.5\" y=\"-7.4\" font-family=\"Times,serif\" font-size=\"12.00\" fill=\"#000000\">MseLossBackward</text>\n</g>\n<!-- 140527015818128 -->\n<g id=\"node2\" class=\"node\">\n<title>140527015818128</title>\n<polygon fill=\"#d3d3d3\" stroke=\"#000000\" points=\"162.5,-78 70.5,-78 70.5,-57 162.5,-57 162.5,-78\"/>\n<text text-anchor=\"middle\" x=\"116.5\" y=\"-64.4\" font-family=\"Times,serif\" font-size=\"12.00\" fill=\"#000000\">AddBackward0</text>\n</g>\n<!-- 140527015818128&#45;&gt;140527015818072 -->\n<g id=\"edge1\" class=\"edge\">\n<title>140527015818128&#45;&gt;140527015818072</title>\n<path fill=\"none\" stroke=\"#000000\" d=\"M116.5,-56.7787C116.5,-49.6134 116.5,-39.9517 116.5,-31.3097\"/>\n<polygon fill=\"#000000\" stroke=\"#000000\" points=\"120.0001,-31.1732 116.5,-21.1732 113.0001,-31.1732 120.0001,-31.1732\"/>\n</g>\n<!-- 140527015818408 -->\n<g id=\"node3\" class=\"node\">\n<title>140527015818408</title>\n<polygon fill=\"#d3d3d3\" stroke=\"#000000\" points=\"125,-141.5 0,-141.5 0,-120.5 125,-120.5 125,-141.5\"/>\n<text text-anchor=\"middle\" x=\"62.5\" y=\"-127.9\" font-family=\"Times,serif\" font-size=\"12.00\" fill=\"#000000\">UnsafeViewBackward</text>\n</g>\n<!-- 140527015818408&#45;&gt;140527015818128 -->\n<g id=\"edge2\" class=\"edge\">\n<title>140527015818408&#45;&gt;140527015818128</title>\n<path fill=\"none\" stroke=\"#000000\" d=\"M71.6604,-120.2281C79.6212,-110.8667 91.3273,-97.1012 100.7825,-85.9826\"/>\n<polygon fill=\"#000000\" stroke=\"#000000\" points=\"103.6629,-87.9982 107.4749,-78.1128 98.3304,-83.4634 103.6629,-87.9982\"/>\n</g>\n<!-- 140527015818296 -->\n<g id=\"node4\" class=\"node\">\n<title>140527015818296</title>\n<polygon fill=\"#d3d3d3\" stroke=\"#000000\" points=\"105,-205 20,-205 20,-184 105,-184 105,-205\"/>\n<text text-anchor=\"middle\" x=\"62.5\" y=\"-191.4\" font-family=\"Times,serif\" font-size=\"12.00\" fill=\"#000000\">MmBackward</text>\n</g>\n<!-- 140527015818296&#45;&gt;140527015818408 -->\n<g id=\"edge3\" class=\"edge\">\n<title>140527015818296&#45;&gt;140527015818408</title>\n<path fill=\"none\" stroke=\"#000000\" d=\"M62.5,-183.7281C62.5,-175.0091 62.5,-162.4699 62.5,-151.8068\"/>\n<polygon fill=\"#000000\" stroke=\"#000000\" points=\"66.0001,-151.6128 62.5,-141.6128 59.0001,-151.6129 66.0001,-151.6128\"/>\n</g>\n<!-- 140527015818632 -->\n<g id=\"node5\" class=\"node\">\n<title>140527015818632</title>\n<polygon fill=\"#d3d3d3\" stroke=\"#000000\" points=\"99,-262 26,-262 26,-241 99,-241 99,-262\"/>\n<text text-anchor=\"middle\" x=\"62.5\" y=\"-248.4\" font-family=\"Times,serif\" font-size=\"12.00\" fill=\"#000000\">TBackward</text>\n</g>\n<!-- 140527015818632&#45;&gt;140527015818296 -->\n<g id=\"edge4\" class=\"edge\">\n<title>140527015818632&#45;&gt;140527015818296</title>\n<path fill=\"none\" stroke=\"#000000\" d=\"M62.5,-240.7787C62.5,-233.6134 62.5,-223.9517 62.5,-215.3097\"/>\n<polygon fill=\"#000000\" stroke=\"#000000\" points=\"66.0001,-215.1732 62.5,-205.1732 59.0001,-215.1732 66.0001,-215.1732\"/>\n</g>\n<!-- 140527015818688 -->\n<g id=\"node6\" class=\"node\">\n<title>140527015818688</title>\n<polygon fill=\"#add8e6\" stroke=\"#000000\" points=\"96,-332 29,-332 29,-298 96,-298 96,-332\"/>\n<text text-anchor=\"middle\" x=\"62.5\" y=\"-318.4\" font-family=\"Times,serif\" font-size=\"12.00\" fill=\"#000000\">fc1.weight</text>\n<text text-anchor=\"middle\" x=\"62.5\" y=\"-305.4\" font-family=\"Times,serif\" font-size=\"12.00\" fill=\"#000000\"> (64, 3)</text>\n</g>\n<!-- 140527015818688&#45;&gt;140527015818632 -->\n<g id=\"edge5\" class=\"edge\">\n<title>140527015818688&#45;&gt;140527015818632</title>\n<path fill=\"none\" stroke=\"#000000\" d=\"M62.5,-297.9832C62.5,-290.1157 62.5,-280.6973 62.5,-272.4019\"/>\n<polygon fill=\"#000000\" stroke=\"#000000\" points=\"66.0001,-272.3686 62.5,-262.3687 59.0001,-272.3687 66.0001,-272.3686\"/>\n</g>\n<!-- 140527015818464 -->\n<g id=\"node7\" class=\"node\">\n<title>140527015818464</title>\n<polygon fill=\"#add8e6\" stroke=\"#000000\" points=\"197.5,-148 143.5,-148 143.5,-114 197.5,-114 197.5,-148\"/>\n<text text-anchor=\"middle\" x=\"170.5\" y=\"-134.4\" font-family=\"Times,serif\" font-size=\"12.00\" fill=\"#000000\">fc1.bias</text>\n<text text-anchor=\"middle\" x=\"170.5\" y=\"-121.4\" font-family=\"Times,serif\" font-size=\"12.00\" fill=\"#000000\"> (64)</text>\n</g>\n<!-- 140527015818464&#45;&gt;140527015818128 -->\n<g id=\"edge6\" class=\"edge\">\n<title>140527015818464&#45;&gt;140527015818128</title>\n<path fill=\"none\" stroke=\"#000000\" d=\"M156.029,-113.9832C148.7371,-105.4085 139.8787,-94.9916 132.3974,-86.1942\"/>\n<polygon fill=\"#000000\" stroke=\"#000000\" points=\"134.8872,-83.7192 125.7426,-78.3687 129.5546,-88.254 134.8872,-83.7192\"/>\n</g>\n</g>\n</svg>\n"
          },
          "metadata": {
            "tags": []
          },
          "execution_count": 469
        }
      ]
    },
    {
      "cell_type": "markdown",
      "metadata": {
        "id": "EECYfE3k5Go2"
      },
      "source": [
        "***Создадим еще одну однослойную нейронную сеть и распишем каждый ее шаг***"
      ]
    },
    {
      "cell_type": "code",
      "metadata": {
        "id": "5cDYKGJc9PkL"
      },
      "source": [
        "x = torch.tensor([[1.0, 2.0, 3.0, 4.0, 5.0, 6.0, 7.0]])\n",
        "target = torch.tensor([[1.0, 2.0, 3.0]])"
      ],
      "execution_count": 157,
      "outputs": []
    },
    {
      "cell_type": "code",
      "metadata": {
        "id": "KwFe2FeeJGe1",
        "outputId": "c36b8b75-901e-42d4-bc61-f9bfb6a0d8a2",
        "colab": {
          "base_uri": "https://localhost:8080/",
          "height": 34
        }
      },
      "source": [
        "x.shape, target.shape"
      ],
      "execution_count": 158,
      "outputs": [
        {
          "output_type": "execute_result",
          "data": {
            "text/plain": [
              "(torch.Size([1, 7]), torch.Size([1, 3]))"
            ]
          },
          "metadata": {
            "tags": []
          },
          "execution_count": 158
        }
      ]
    },
    {
      "cell_type": "code",
      "metadata": {
        "id": "l7vOFshf-Ehc"
      },
      "source": [
        "class Net(torch.nn.Module):\n",
        "  def __init__(self):\n",
        "    super(Net, self).__init__()\n",
        "    self.fc1 = torch.nn.Linear(7, 3)\n",
        "\n",
        "  def forward(self, x):\n",
        "    x = self.fc1(x)\n",
        "    return x"
      ],
      "execution_count": 159,
      "outputs": []
    },
    {
      "cell_type": "code",
      "metadata": {
        "id": "rqaZf6IV-UoN"
      },
      "source": [
        "model = Net()"
      ],
      "execution_count": 160,
      "outputs": []
    },
    {
      "cell_type": "code",
      "metadata": {
        "id": "4ujqJIvCLN2L"
      },
      "source": [
        "output = model(x)"
      ],
      "execution_count": 161,
      "outputs": []
    },
    {
      "cell_type": "code",
      "metadata": {
        "id": "XLZNFQtmU9t2",
        "outputId": "4244a585-b86d-4a6e-87ac-2d10626f0587",
        "colab": {
          "base_uri": "https://localhost:8080/",
          "height": 119
        }
      },
      "source": [
        "param = list(model.parameters())\n",
        "param"
      ],
      "execution_count": 162,
      "outputs": [
        {
          "output_type": "execute_result",
          "data": {
            "text/plain": [
              "[Parameter containing:\n",
              " tensor([[-0.1684, -0.2188, -0.1311, -0.0431, -0.0636,  0.1645,  0.0357],\n",
              "         [-0.3476, -0.1975,  0.1432, -0.1315, -0.0916, -0.1523, -0.1469],\n",
              "         [-0.0825, -0.2417,  0.0855,  0.1478,  0.2488,  0.0083,  0.1357]],\n",
              "        requires_grad=True), Parameter containing:\n",
              " tensor([-0.2944,  0.1551,  0.0950], requires_grad=True)]"
            ]
          },
          "metadata": {
            "tags": []
          },
          "execution_count": 162
        }
      ]
    },
    {
      "cell_type": "code",
      "metadata": {
        "id": "tkxOgBbNnB6e",
        "outputId": "b0f49e88-eae3-4ff8-8926-3827a4fb8f74",
        "colab": {
          "base_uri": "https://localhost:8080/",
          "height": 34
        }
      },
      "source": [
        "x.shape, param[0].T.shape, param[1].shape"
      ],
      "execution_count": 163,
      "outputs": [
        {
          "output_type": "execute_result",
          "data": {
            "text/plain": [
              "(torch.Size([1, 7]), torch.Size([7, 3]), torch.Size([3]))"
            ]
          },
          "metadata": {
            "tags": []
          },
          "execution_count": 163
        }
      ]
    },
    {
      "cell_type": "code",
      "metadata": {
        "id": "vuOhjOfLJtUl",
        "outputId": "9c645564-4cb3-4da8-9318-30c9afe33098",
        "colab": {
          "base_uri": "https://localhost:8080/",
          "height": 34
        }
      },
      "source": [
        "x @ param[0].T + param[1] # это эквивалент прямого прохода (forward) model(x)"
      ],
      "execution_count": 164,
      "outputs": [
        {
          "output_type": "execute_result",
          "data": {
            "text/plain": [
              "tensor([[-0.5475, -3.0837,  2.6204]], grad_fn=<AddBackward0>)"
            ]
          },
          "metadata": {
            "tags": []
          },
          "execution_count": 164
        }
      ]
    },
    {
      "cell_type": "code",
      "metadata": {
        "id": "Fs8peK4XKNB7"
      },
      "source": [
        "criterion = torch.nn.MSELoss()"
      ],
      "execution_count": 165,
      "outputs": []
    },
    {
      "cell_type": "code",
      "metadata": {
        "id": "NUBvH5ZsNe6U"
      },
      "source": [
        "optimizer = torch.optim.SGD(model.parameters(),  lr=0.0003)"
      ],
      "execution_count": 166,
      "outputs": []
    },
    {
      "cell_type": "code",
      "metadata": {
        "id": "zvqKAPqRa-S_",
        "outputId": "29813bf5-f760-4cc5-f566-4ef10f0f7f71",
        "colab": {
          "base_uri": "https://localhost:8080/",
          "height": 34
        }
      },
      "source": [
        "loss = criterion(output, target)\n",
        "loss"
      ],
      "execution_count": 167,
      "outputs": [
        {
          "output_type": "execute_result",
          "data": {
            "text/plain": [
              "tensor(9.4609, grad_fn=<MseLossBackward>)"
            ]
          },
          "metadata": {
            "tags": []
          },
          "execution_count": 167
        }
      ]
    },
    {
      "cell_type": "code",
      "metadata": {
        "id": "AAEjrXfgblvk",
        "outputId": "7c2b046d-0b4a-434c-c0bb-58203ed091a7",
        "colab": {
          "base_uri": "https://localhost:8080/",
          "height": 51
        }
      },
      "source": [
        "output, target"
      ],
      "execution_count": 168,
      "outputs": [
        {
          "output_type": "execute_result",
          "data": {
            "text/plain": [
              "(tensor([[-0.5475, -3.0837,  2.6204]], grad_fn=<AddmmBackward>),\n",
              " tensor([[1., 2., 3.]]))"
            ]
          },
          "metadata": {
            "tags": []
          },
          "execution_count": 168
        }
      ]
    },
    {
      "cell_type": "code",
      "metadata": {
        "id": "z1k3zIajbs5e",
        "outputId": "4c50513f-83fd-45a1-a406-a9b71a45146f",
        "colab": {
          "base_uri": "https://localhost:8080/",
          "height": 34
        }
      },
      "source": [
        "torch.sum((output - target)**2) / 3 # это эквивалент ф-и ошибки (MSELoss)"
      ],
      "execution_count": 169,
      "outputs": [
        {
          "output_type": "execute_result",
          "data": {
            "text/plain": [
              "tensor(9.4609, grad_fn=<DivBackward0>)"
            ]
          },
          "metadata": {
            "tags": []
          },
          "execution_count": 169
        }
      ]
    },
    {
      "cell_type": "code",
      "metadata": {
        "id": "c5q_M6I_7rnW"
      },
      "source": [
        "loss.backward()"
      ],
      "execution_count": 170,
      "outputs": []
    },
    {
      "cell_type": "code",
      "metadata": {
        "id": "0kdCNgT1JQ30",
        "outputId": "3a3724ab-ebba-4524-be4f-96829f5c07a5",
        "colab": {
          "base_uri": "https://localhost:8080/",
          "height": 68
        }
      },
      "source": [
        "list(model.parameters())[0].grad"
      ],
      "execution_count": 171,
      "outputs": [
        {
          "output_type": "execute_result",
          "data": {
            "text/plain": [
              "tensor([[ -1.0317,  -2.0634,  -3.0950,  -4.1267,  -5.1584,  -6.1901,  -7.2217],\n",
              "        [ -3.3891,  -6.7782, -10.1673, -13.5564, -16.9455, -20.3347, -23.7238],\n",
              "        [ -0.2531,  -0.5062,  -0.7592,  -1.0123,  -1.2654,  -1.5185,  -1.7716]])"
            ]
          },
          "metadata": {
            "tags": []
          },
          "execution_count": 171
        }
      ]
    },
    {
      "cell_type": "code",
      "metadata": {
        "id": "D7wrfeFd8GZd",
        "outputId": "10a68581-a00c-4808-c01a-4a4aba607e0d",
        "colab": {
          "base_uri": "https://localhost:8080/",
          "height": 34
        }
      },
      "source": [
        "list(model.parameters())[1].grad"
      ],
      "execution_count": 172,
      "outputs": [
        {
          "output_type": "execute_result",
          "data": {
            "text/plain": [
              "tensor([-1.0317, -3.3891, -0.2531])"
            ]
          },
          "metadata": {
            "tags": []
          },
          "execution_count": 172
        }
      ]
    },
    {
      "cell_type": "code",
      "metadata": {
        "id": "H7e4mUGCG-D-"
      },
      "source": [
        "optimizer.zero_grad() # обнуляем градиент перед след шагом (здесь мы обнулии рано поэтому сделаем еще один прямой проход)"
      ],
      "execution_count": 173,
      "outputs": []
    },
    {
      "cell_type": "code",
      "metadata": {
        "id": "Zl6k1o7FdlQt",
        "outputId": "f42b4bce-9c37-4174-e232-93529dd506a5",
        "colab": {
          "base_uri": "https://localhost:8080/",
          "height": 68
        }
      },
      "source": [
        "list(model.parameters())[0].grad"
      ],
      "execution_count": 174,
      "outputs": [
        {
          "output_type": "execute_result",
          "data": {
            "text/plain": [
              "tensor([[0., 0., 0., 0., 0., 0., 0.],\n",
              "        [0., 0., 0., 0., 0., 0., 0.],\n",
              "        [0., 0., 0., 0., 0., 0., 0.]])"
            ]
          },
          "metadata": {
            "tags": []
          },
          "execution_count": 174
        }
      ]
    },
    {
      "cell_type": "code",
      "metadata": {
        "id": "4KVBIWQa9MDH",
        "outputId": "f3ee8e60-8612-4136-eb23-52bda1048a87",
        "colab": {
          "base_uri": "https://localhost:8080/",
          "height": 34
        }
      },
      "source": [
        "list(model.parameters())[1].grad"
      ],
      "execution_count": 175,
      "outputs": [
        {
          "output_type": "execute_result",
          "data": {
            "text/plain": [
              "tensor([0., 0., 0.])"
            ]
          },
          "metadata": {
            "tags": []
          },
          "execution_count": 175
        }
      ]
    },
    {
      "cell_type": "markdown",
      "metadata": {
        "id": "lku8elHNBcmV"
      },
      "source": [
        "**итак**"
      ]
    },
    {
      "cell_type": "code",
      "metadata": {
        "id": "w26nbAvj-3Nm"
      },
      "source": [
        "output = model(x)"
      ],
      "execution_count": 176,
      "outputs": []
    },
    {
      "cell_type": "code",
      "metadata": {
        "id": "lBd2uXzq_Mcw"
      },
      "source": [
        "loss = criterion(output, target)"
      ],
      "execution_count": 177,
      "outputs": []
    },
    {
      "cell_type": "code",
      "metadata": {
        "id": "sbYQRwlG-3Vc"
      },
      "source": [
        "optimizer.zero_grad()"
      ],
      "execution_count": 178,
      "outputs": []
    },
    {
      "cell_type": "code",
      "metadata": {
        "id": "mTOqLtFs-3Le"
      },
      "source": [
        "loss.backward()"
      ],
      "execution_count": 179,
      "outputs": []
    },
    {
      "cell_type": "markdown",
      "metadata": {
        "id": "w7llBT1JBgU4"
      },
      "source": [
        "**backward (часные производные w, b сложной ф-и по правилу цепи)**"
      ]
    },
    {
      "cell_type": "code",
      "metadata": {
        "id": "WOiQyq8uBapB",
        "outputId": "bdfc470f-2110-46b6-98a9-40995371c22d",
        "colab": {
          "base_uri": "https://localhost:8080/",
          "height": 68
        }
      },
      "source": [
        "param[0].grad # grad w"
      ],
      "execution_count": 180,
      "outputs": [
        {
          "output_type": "execute_result",
          "data": {
            "text/plain": [
              "tensor([[ -1.0317,  -2.0634,  -3.0950,  -4.1267,  -5.1584,  -6.1901,  -7.2217],\n",
              "        [ -3.3891,  -6.7782, -10.1673, -13.5564, -16.9455, -20.3347, -23.7238],\n",
              "        [ -0.2531,  -0.5062,  -0.7592,  -1.0123,  -1.2654,  -1.5185,  -1.7716]])"
            ]
          },
          "metadata": {
            "tags": []
          },
          "execution_count": 180
        }
      ]
    },
    {
      "cell_type": "code",
      "metadata": {
        "id": "aqobICH6B1O4",
        "outputId": "6f6516f8-4024-42d2-bc34-7e362f686dc5",
        "colab": {
          "base_uri": "https://localhost:8080/",
          "height": 34
        }
      },
      "source": [
        "grad = 2 * (output - target) / 3\n",
        "grad"
      ],
      "execution_count": 181,
      "outputs": [
        {
          "output_type": "execute_result",
          "data": {
            "text/plain": [
              "tensor([[-1.0317, -3.3891, -0.2531]], grad_fn=<DivBackward0>)"
            ]
          },
          "metadata": {
            "tags": []
          },
          "execution_count": 181
        }
      ]
    },
    {
      "cell_type": "code",
      "metadata": {
        "id": "zbxP-5cIBqcK",
        "outputId": "9959ae56-1656-4077-9a1e-8143b3a02ca6",
        "colab": {
          "base_uri": "https://localhost:8080/",
          "height": 85
        }
      },
      "source": [
        "grad.T @ x # grad w"
      ],
      "execution_count": 182,
      "outputs": [
        {
          "output_type": "execute_result",
          "data": {
            "text/plain": [
              "tensor([[ -1.0317,  -2.0634,  -3.0950,  -4.1267,  -5.1584,  -6.1901,  -7.2217],\n",
              "        [ -3.3891,  -6.7782, -10.1673, -13.5564, -16.9455, -20.3347, -23.7238],\n",
              "        [ -0.2531,  -0.5062,  -0.7592,  -1.0123,  -1.2654,  -1.5185,  -1.7716]],\n",
              "       grad_fn=<MmBackward>)"
            ]
          },
          "metadata": {
            "tags": []
          },
          "execution_count": 182
        }
      ]
    },
    {
      "cell_type": "code",
      "metadata": {
        "id": "hkb7-2jnxLRs",
        "outputId": "07e3911b-b8d4-4c82-e596-274165121f7f",
        "colab": {
          "base_uri": "https://localhost:8080/",
          "height": 34
        }
      },
      "source": [
        "param[1].grad # grad bias"
      ],
      "execution_count": 183,
      "outputs": [
        {
          "output_type": "execute_result",
          "data": {
            "text/plain": [
              "tensor([-1.0317, -3.3891, -0.2531])"
            ]
          },
          "metadata": {
            "tags": []
          },
          "execution_count": 183
        }
      ]
    },
    {
      "cell_type": "code",
      "metadata": {
        "id": "u-Y3xz9Tx6oR",
        "outputId": "cf465ad9-c516-44cd-cc28-43d978edc18e",
        "colab": {
          "base_uri": "https://localhost:8080/",
          "height": 34
        }
      },
      "source": [
        "grad.sum(0) # grad bias"
      ],
      "execution_count": 184,
      "outputs": [
        {
          "output_type": "execute_result",
          "data": {
            "text/plain": [
              "tensor([-1.0317, -3.3891, -0.2531], grad_fn=<SumBackward1>)"
            ]
          },
          "metadata": {
            "tags": []
          },
          "execution_count": 184
        }
      ]
    },
    {
      "cell_type": "markdown",
      "metadata": {
        "id": "KKsXBFfJDLAf"
      },
      "source": [
        "**оптимизатор**\n"
      ]
    },
    {
      "cell_type": "code",
      "metadata": {
        "id": "og13wKmYznjp"
      },
      "source": [
        "class SGD(torch.optim.Optimizer):\n",
        "    r\"\"\"Implements stochastic gradient descent (optionally with momentum).\n",
        "\n",
        "    Nesterov momentum is based on the formula from\n",
        "    `On the importance of initialization and momentum in deep learning`__.\n",
        "\n",
        "    Args:\n",
        "        params (iterable): iterable of parameters to optimize or dicts defining\n",
        "            parameter groups\n",
        "        lr (float): learning rate\n",
        "        momentum (float, optional): momentum factor (default: 0)\n",
        "        weight_decay (float, optional): weight decay (L2 penalty) (default: 0)\n",
        "        dampening (float, optional): dampening for momentum (default: 0)\n",
        "        nesterov (bool, optional): enables Nesterov momentum (default: False)\n",
        "\n",
        "    Example:\n",
        "        >>> optimizer = torch.optim.SGD(model.parameters(), lr=0.1, momentum=0.9)\n",
        "        >>> optimizer.zero_grad()\n",
        "        >>> loss_fn(model(input), target).backward()\n",
        "        >>> optimizer.step()\n",
        "\n",
        "    __ http://www.cs.toronto.edu/%7Ehinton/absps/momentum.pdf\n",
        "\n",
        "    .. note::\n",
        "        The implementation of SGD with Momentum/Nesterov subtly differs from\n",
        "        Sutskever et. al. and implementations in some other frameworks.\n",
        "\n",
        "        Considering the specific case of Momentum, the update can be written as\n",
        "\n",
        "        .. math::\n",
        "            \\begin{aligned}\n",
        "                v_{t+1} & = \\mu * v_{t} + g_{t+1}, \\\\\n",
        "                p_{t+1} & = p_{t} - \\text{lr} * v_{t+1},\n",
        "            \\end{aligned}\n",
        "\n",
        "        where :math:`p`, :math:`g`, :math:`v` and :math:`\\mu` denote the \n",
        "        parameters, gradient, velocity, and momentum respectively.\n",
        "\n",
        "        This is in contrast to Sutskever et. al. and\n",
        "        other frameworks which employ an update of the form\n",
        "\n",
        "        .. math::\n",
        "            \\begin{aligned}\n",
        "                v_{t+1} & = \\mu * v_{t} + \\text{lr} * g_{t+1}, \\\\\n",
        "                p_{t+1} & = p_{t} - v_{t+1}.\n",
        "            \\end{aligned}\n",
        "\n",
        "        The Nesterov version is analogously modified.\n",
        "    \"\"\"\n",
        "\n",
        "    def __init__(self, params, lr=0.003, momentum=0, dampening=0,\n",
        "                 weight_decay=0, nesterov=False):\n",
        "        if lr < 0.0:\n",
        "            raise ValueError(\"Invalid learning rate: {}\".format(lr))\n",
        "        if momentum < 0.0:\n",
        "            raise ValueError(\"Invalid momentum value: {}\".format(momentum))\n",
        "        if weight_decay < 0.0:\n",
        "            raise ValueError(\"Invalid weight_decay value: {}\".format(weight_decay))\n",
        "\n",
        "        defaults = dict(lr=lr, momentum=momentum, dampening=dampening,\n",
        "                        weight_decay=weight_decay, nesterov=nesterov)\n",
        "        if nesterov and (momentum <= 0 or dampening != 0):\n",
        "            raise ValueError(\"Nesterov momentum requires a momentum and zero dampening\")\n",
        "        super(SGD, self).__init__(params, defaults)\n",
        "\n",
        "    def __setstate__(self, state):\n",
        "        super(SGD, self).__setstate__(state)\n",
        "        for group in self.param_groups:\n",
        "            group.setdefault('nesterov', False)\n",
        "\n",
        "    @torch.no_grad()\n",
        "    def step(self, closure=None):\n",
        "        \"\"\"Performs a single optimization step.\n",
        "\n",
        "        Arguments:\n",
        "            closure (callable, optional): A closure that reevaluates the model\n",
        "                and returns the loss.\n",
        "        \"\"\"\n",
        "        loss = None\n",
        "        if closure is not None:\n",
        "            with torch.enable_grad():\n",
        "                loss = closure()\n",
        "\n",
        "        for group in self.param_groups:\n",
        "            weight_decay = group['weight_decay']\n",
        "            momentum = group['momentum']\n",
        "            dampening = group['dampening']\n",
        "            nesterov = group['nesterov']\n",
        "\n",
        "            for p in group['params']:\n",
        "                if p.grad is None:\n",
        "                    continue\n",
        "                d_p = p.grad\n",
        "                if weight_decay != 0:\n",
        "                    d_p = d_p.add(p, alpha=weight_decay)\n",
        "                if momentum != 0:\n",
        "                    param_state = self.state[p]\n",
        "                    if 'momentum_buffer' not in param_state:\n",
        "                        buf = param_state['momentum_buffer'] = torch.clone(d_p).detach()\n",
        "                    else:\n",
        "                        buf = param_state['momentum_buffer']\n",
        "                        buf.mul_(momentum).add_(d_p, alpha=1 - dampening)\n",
        "                    if nesterov:\n",
        "                        d_p = d_p.add(buf, alpha=momentum)\n",
        "                    else:\n",
        "                        d_p = buf\n",
        "\n",
        "                p.add_(d_p, alpha=-group['lr'])\n",
        "\n",
        "        return loss"
      ],
      "execution_count": 185,
      "outputs": []
    },
    {
      "cell_type": "code",
      "metadata": {
        "id": "4lxVVNaLzJji"
      },
      "source": [
        "optimizer = SGD(model.parameters(),  lr=0.0003)"
      ],
      "execution_count": 186,
      "outputs": []
    },
    {
      "cell_type": "code",
      "metadata": {
        "id": "6LeESRahzccs",
        "outputId": "4908773e-511a-482c-ba5d-332996b8b3aa",
        "colab": {
          "base_uri": "https://localhost:8080/",
          "height": 187
        }
      },
      "source": [
        "for epoch in range(10):\n",
        "  output = model(x)\n",
        "  loss = criterion(output, target)\n",
        "  print('Epoch: ', epoch, 'Loss: ', loss.item())\n",
        "  optimizer.zero_grad()\n",
        "  loss.backward()\n",
        "  optimizer.step()"
      ],
      "execution_count": 187,
      "outputs": [
        {
          "output_type": "stream",
          "text": [
            "Epoch:  0 Loss:  9.46085262298584\n",
            "Epoch:  1 Loss:  8.934782981872559\n",
            "Epoch:  2 Loss:  8.437968254089355\n",
            "Epoch:  3 Loss:  7.968776702880859\n",
            "Epoch:  4 Loss:  7.5256733894348145\n",
            "Epoch:  5 Loss:  7.107210159301758\n",
            "Epoch:  6 Loss:  6.712016582489014\n",
            "Epoch:  7 Loss:  6.338795185089111\n",
            "Epoch:  8 Loss:  5.986328125\n",
            "Epoch:  9 Loss:  5.6534600257873535\n"
          ],
          "name": "stdout"
        }
      ]
    },
    {
      "cell_type": "code",
      "metadata": {
        "id": "tDyzxKnPqvJI"
      },
      "source": [
        ""
      ],
      "execution_count": null,
      "outputs": []
    }
  ]
}